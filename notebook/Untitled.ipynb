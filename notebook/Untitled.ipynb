{
 "cells": [
  {
   "cell_type": "code",
   "execution_count": 39,
   "metadata": {},
   "outputs": [],
   "source": [
    "import pandas as pd\n",
    "import numpy as np\n",
    "import seaborn as sns\n",
    "import matplotlib.pyplot as plt"
   ]
  },
  {
   "cell_type": "code",
   "execution_count": 40,
   "metadata": {},
   "outputs": [],
   "source": [
    "# Essentials\n",
    "import numpy as np\n",
    "import pandas as pd\n",
    "\n",
    "# Plots\n",
    "import matplotlib.pyplot as plt\n",
    "import seaborn as sns\n",
    "%matplotlib inline\n",
    "\n",
    "# Models\n",
    "from sklearn.linear_model import LinearRegression\n",
    "from sklearn.neighbors import KNeighborsRegressor\n",
    "from sklearn.tree import DecisionTreeRegressor\n",
    "from sklearn.ensemble import RandomForestRegressor\n",
    "from xgboost import XGBRegressor\n",
    "from sklearn.linear_model import Ridge\n",
    "from sklearn.linear_model import Lasso\n",
    "\n",
    "# Statistics\n",
    "from scipy.stats import skew, norm\n",
    "from scipy.special import boxcox1p\n",
    "from scipy.stats import boxcox_normmax\n",
    "\n",
    "# Misc\n",
    "from sklearn.model_selection import GridSearchCV\n",
    "from sklearn.model_selection import KFold, cross_val_score\n",
    "from sklearn.metrics import mean_absolute_error\n",
    "from sklearn.metrics import mean_squared_error\n",
    "from sklearn.model_selection import train_test_split\n",
    "from sklearn.preprocessing import LabelEncoder\n",
    "from sklearn.pipeline import make_pipeline\n",
    "from sklearn.preprocessing import scale\n",
    "from sklearn.preprocessing import StandardScaler\n",
    "from numpy import sqrt\n",
    "\n",
    "# Ignore useless warnings\n",
    "import warnings\n",
    "warnings.filterwarnings(action=\"ignore\")\n",
    "\n",
    "pd.set_option('display.max_columns', None)"
   ]
  },
  {
   "cell_type": "code",
   "execution_count": 41,
   "metadata": {},
   "outputs": [],
   "source": [
    "train = pd.read_csv('C:/Users/admin/Desktop/data/wine_train.csv')"
   ]
  },
  {
   "cell_type": "code",
   "execution_count": 42,
   "metadata": {},
   "outputs": [
    {
     "data": {
      "text/html": [
       "<div>\n",
       "<style scoped>\n",
       "    .dataframe tbody tr th:only-of-type {\n",
       "        vertical-align: middle;\n",
       "    }\n",
       "\n",
       "    .dataframe tbody tr th {\n",
       "        vertical-align: top;\n",
       "    }\n",
       "\n",
       "    .dataframe thead th {\n",
       "        text-align: right;\n",
       "    }\n",
       "</style>\n",
       "<table border=\"1\" class=\"dataframe\">\n",
       "  <thead>\n",
       "    <tr style=\"text-align: right;\">\n",
       "      <th></th>\n",
       "      <th>fixed.acidity</th>\n",
       "      <th>volatile.acidity</th>\n",
       "      <th>citric.acid</th>\n",
       "      <th>residual.sugar</th>\n",
       "      <th>chlorides</th>\n",
       "      <th>free.sulfur.dioxide</th>\n",
       "      <th>total.sulfur.dioxide</th>\n",
       "      <th>density</th>\n",
       "      <th>pH</th>\n",
       "      <th>sulphates</th>\n",
       "      <th>alcohol</th>\n",
       "      <th>quality</th>\n",
       "    </tr>\n",
       "  </thead>\n",
       "  <tbody>\n",
       "    <tr>\n",
       "      <th>0</th>\n",
       "      <td>9.0</td>\n",
       "      <td>0.245</td>\n",
       "      <td>0.38</td>\n",
       "      <td>5.9</td>\n",
       "      <td>0.045</td>\n",
       "      <td>52.0</td>\n",
       "      <td>159.0</td>\n",
       "      <td>0.99500</td>\n",
       "      <td>2.93</td>\n",
       "      <td>0.35</td>\n",
       "      <td>10.2</td>\n",
       "      <td>6</td>\n",
       "    </tr>\n",
       "    <tr>\n",
       "      <th>1</th>\n",
       "      <td>8.2</td>\n",
       "      <td>0.420</td>\n",
       "      <td>0.29</td>\n",
       "      <td>4.1</td>\n",
       "      <td>0.030</td>\n",
       "      <td>31.0</td>\n",
       "      <td>100.0</td>\n",
       "      <td>0.99110</td>\n",
       "      <td>3.00</td>\n",
       "      <td>0.32</td>\n",
       "      <td>12.8</td>\n",
       "      <td>7</td>\n",
       "    </tr>\n",
       "    <tr>\n",
       "      <th>2</th>\n",
       "      <td>6.4</td>\n",
       "      <td>0.220</td>\n",
       "      <td>0.32</td>\n",
       "      <td>7.2</td>\n",
       "      <td>0.028</td>\n",
       "      <td>15.0</td>\n",
       "      <td>83.0</td>\n",
       "      <td>0.99300</td>\n",
       "      <td>3.13</td>\n",
       "      <td>0.55</td>\n",
       "      <td>10.9</td>\n",
       "      <td>8</td>\n",
       "    </tr>\n",
       "    <tr>\n",
       "      <th>3</th>\n",
       "      <td>5.0</td>\n",
       "      <td>0.350</td>\n",
       "      <td>0.25</td>\n",
       "      <td>7.8</td>\n",
       "      <td>0.031</td>\n",
       "      <td>24.0</td>\n",
       "      <td>116.0</td>\n",
       "      <td>0.99241</td>\n",
       "      <td>3.39</td>\n",
       "      <td>0.40</td>\n",
       "      <td>11.3</td>\n",
       "      <td>6</td>\n",
       "    </tr>\n",
       "    <tr>\n",
       "      <th>4</th>\n",
       "      <td>7.4</td>\n",
       "      <td>0.300</td>\n",
       "      <td>0.30</td>\n",
       "      <td>5.2</td>\n",
       "      <td>0.053</td>\n",
       "      <td>45.0</td>\n",
       "      <td>163.0</td>\n",
       "      <td>0.99410</td>\n",
       "      <td>3.12</td>\n",
       "      <td>0.45</td>\n",
       "      <td>10.3</td>\n",
       "      <td>6</td>\n",
       "    </tr>\n",
       "  </tbody>\n",
       "</table>\n",
       "</div>"
      ],
      "text/plain": [
       "   fixed.acidity  volatile.acidity  citric.acid  residual.sugar  chlorides  \\\n",
       "0            9.0             0.245         0.38             5.9      0.045   \n",
       "1            8.2             0.420         0.29             4.1      0.030   \n",
       "2            6.4             0.220         0.32             7.2      0.028   \n",
       "3            5.0             0.350         0.25             7.8      0.031   \n",
       "4            7.4             0.300         0.30             5.2      0.053   \n",
       "\n",
       "   free.sulfur.dioxide  total.sulfur.dioxide  density    pH  sulphates  \\\n",
       "0                 52.0                 159.0  0.99500  2.93       0.35   \n",
       "1                 31.0                 100.0  0.99110  3.00       0.32   \n",
       "2                 15.0                  83.0  0.99300  3.13       0.55   \n",
       "3                 24.0                 116.0  0.99241  3.39       0.40   \n",
       "4                 45.0                 163.0  0.99410  3.12       0.45   \n",
       "\n",
       "   alcohol  quality  \n",
       "0     10.2        6  \n",
       "1     12.8        7  \n",
       "2     10.9        8  \n",
       "3     11.3        6  \n",
       "4     10.3        6  "
      ]
     },
     "execution_count": 42,
     "metadata": {},
     "output_type": "execute_result"
    }
   ],
   "source": [
    "train.head()"
   ]
  },
  {
   "cell_type": "code",
   "execution_count": 43,
   "metadata": {},
   "outputs": [
    {
     "data": {
      "text/plain": [
       "fixed.acidity           0\n",
       "volatile.acidity        0\n",
       "citric.acid             0\n",
       "residual.sugar          0\n",
       "chlorides               0\n",
       "free.sulfur.dioxide     0\n",
       "total.sulfur.dioxide    0\n",
       "density                 0\n",
       "pH                      0\n",
       "sulphates               0\n",
       "alcohol                 0\n",
       "quality                 0\n",
       "dtype: int64"
      ]
     },
     "execution_count": 43,
     "metadata": {},
     "output_type": "execute_result"
    }
   ],
   "source": [
    "train.isnull().sum()"
   ]
  },
  {
   "cell_type": "code",
   "execution_count": 44,
   "metadata": {},
   "outputs": [
    {
     "data": {
      "text/plain": [
       "(3673, 12)"
      ]
     },
     "execution_count": 44,
     "metadata": {},
     "output_type": "execute_result"
    }
   ],
   "source": [
    "train.shape"
   ]
  },
  {
   "cell_type": "code",
   "execution_count": 45,
   "metadata": {},
   "outputs": [
    {
     "data": {
      "text/plain": [
       "Index(['fixed.acidity', 'volatile.acidity', 'citric.acid', 'residual.sugar',\n",
       "       'chlorides', 'free.sulfur.dioxide', 'total.sulfur.dioxide', 'density',\n",
       "       'pH', 'sulphates', 'alcohol', 'quality'],\n",
       "      dtype='object')"
      ]
     },
     "execution_count": 45,
     "metadata": {},
     "output_type": "execute_result"
    }
   ],
   "source": [
    "train.columns"
   ]
  },
  {
   "cell_type": "code",
   "execution_count": 46,
   "metadata": {},
   "outputs": [
    {
     "data": {
      "text/plain": [
       "fixed.acidity           float64\n",
       "volatile.acidity        float64\n",
       "citric.acid             float64\n",
       "residual.sugar          float64\n",
       "chlorides               float64\n",
       "free.sulfur.dioxide     float64\n",
       "total.sulfur.dioxide    float64\n",
       "density                 float64\n",
       "pH                      float64\n",
       "sulphates               float64\n",
       "alcohol                 float64\n",
       "quality                   int64\n",
       "dtype: object"
      ]
     },
     "execution_count": 46,
     "metadata": {},
     "output_type": "execute_result"
    }
   ],
   "source": [
    "train.dtypes"
   ]
  },
  {
   "cell_type": "code",
   "execution_count": 47,
   "metadata": {},
   "outputs": [
    {
     "data": {
      "text/html": [
       "<div>\n",
       "<style scoped>\n",
       "    .dataframe tbody tr th:only-of-type {\n",
       "        vertical-align: middle;\n",
       "    }\n",
       "\n",
       "    .dataframe tbody tr th {\n",
       "        vertical-align: top;\n",
       "    }\n",
       "\n",
       "    .dataframe thead th {\n",
       "        text-align: right;\n",
       "    }\n",
       "</style>\n",
       "<table border=\"1\" class=\"dataframe\">\n",
       "  <thead>\n",
       "    <tr style=\"text-align: right;\">\n",
       "      <th></th>\n",
       "      <th>fixed.acidity</th>\n",
       "      <th>volatile.acidity</th>\n",
       "      <th>citric.acid</th>\n",
       "      <th>residual.sugar</th>\n",
       "      <th>chlorides</th>\n",
       "      <th>free.sulfur.dioxide</th>\n",
       "      <th>total.sulfur.dioxide</th>\n",
       "      <th>density</th>\n",
       "      <th>pH</th>\n",
       "      <th>sulphates</th>\n",
       "      <th>alcohol</th>\n",
       "      <th>quality</th>\n",
       "    </tr>\n",
       "  </thead>\n",
       "  <tbody>\n",
       "    <tr>\n",
       "      <th>count</th>\n",
       "      <td>3673.000000</td>\n",
       "      <td>3673.000000</td>\n",
       "      <td>3673.000000</td>\n",
       "      <td>3673.000000</td>\n",
       "      <td>3673.000000</td>\n",
       "      <td>3673.000000</td>\n",
       "      <td>3673.000000</td>\n",
       "      <td>3673.000000</td>\n",
       "      <td>3673.000000</td>\n",
       "      <td>3673.000000</td>\n",
       "      <td>3673.000000</td>\n",
       "      <td>3673.000000</td>\n",
       "    </tr>\n",
       "    <tr>\n",
       "      <th>mean</th>\n",
       "      <td>6.854724</td>\n",
       "      <td>0.277953</td>\n",
       "      <td>0.335108</td>\n",
       "      <td>6.413613</td>\n",
       "      <td>0.045710</td>\n",
       "      <td>35.368500</td>\n",
       "      <td>138.626736</td>\n",
       "      <td>0.994026</td>\n",
       "      <td>3.189834</td>\n",
       "      <td>0.489115</td>\n",
       "      <td>10.525709</td>\n",
       "      <td>5.893820</td>\n",
       "    </tr>\n",
       "    <tr>\n",
       "      <th>std</th>\n",
       "      <td>0.848973</td>\n",
       "      <td>0.099913</td>\n",
       "      <td>0.123156</td>\n",
       "      <td>5.054275</td>\n",
       "      <td>0.021747</td>\n",
       "      <td>16.974746</td>\n",
       "      <td>42.641142</td>\n",
       "      <td>0.003016</td>\n",
       "      <td>0.152739</td>\n",
       "      <td>0.112433</td>\n",
       "      <td>1.243642</td>\n",
       "      <td>0.892749</td>\n",
       "    </tr>\n",
       "    <tr>\n",
       "      <th>min</th>\n",
       "      <td>3.800000</td>\n",
       "      <td>0.080000</td>\n",
       "      <td>0.000000</td>\n",
       "      <td>0.600000</td>\n",
       "      <td>0.012000</td>\n",
       "      <td>3.000000</td>\n",
       "      <td>9.000000</td>\n",
       "      <td>0.987110</td>\n",
       "      <td>2.720000</td>\n",
       "      <td>0.250000</td>\n",
       "      <td>8.000000</td>\n",
       "      <td>3.000000</td>\n",
       "    </tr>\n",
       "    <tr>\n",
       "      <th>25%</th>\n",
       "      <td>6.300000</td>\n",
       "      <td>0.210000</td>\n",
       "      <td>0.270000</td>\n",
       "      <td>1.700000</td>\n",
       "      <td>0.036000</td>\n",
       "      <td>24.000000</td>\n",
       "      <td>108.000000</td>\n",
       "      <td>0.991700</td>\n",
       "      <td>3.080000</td>\n",
       "      <td>0.410000</td>\n",
       "      <td>9.400000</td>\n",
       "      <td>5.000000</td>\n",
       "    </tr>\n",
       "    <tr>\n",
       "      <th>50%</th>\n",
       "      <td>6.800000</td>\n",
       "      <td>0.260000</td>\n",
       "      <td>0.310000</td>\n",
       "      <td>5.250000</td>\n",
       "      <td>0.043000</td>\n",
       "      <td>34.000000</td>\n",
       "      <td>134.000000</td>\n",
       "      <td>0.993800</td>\n",
       "      <td>3.180000</td>\n",
       "      <td>0.470000</td>\n",
       "      <td>10.400000</td>\n",
       "      <td>6.000000</td>\n",
       "    </tr>\n",
       "    <tr>\n",
       "      <th>75%</th>\n",
       "      <td>7.300000</td>\n",
       "      <td>0.320000</td>\n",
       "      <td>0.390000</td>\n",
       "      <td>9.900000</td>\n",
       "      <td>0.050000</td>\n",
       "      <td>46.000000</td>\n",
       "      <td>167.000000</td>\n",
       "      <td>0.996100</td>\n",
       "      <td>3.280000</td>\n",
       "      <td>0.550000</td>\n",
       "      <td>11.400000</td>\n",
       "      <td>6.000000</td>\n",
       "    </tr>\n",
       "    <tr>\n",
       "      <th>max</th>\n",
       "      <td>14.200000</td>\n",
       "      <td>1.100000</td>\n",
       "      <td>1.660000</td>\n",
       "      <td>65.800000</td>\n",
       "      <td>0.346000</td>\n",
       "      <td>289.000000</td>\n",
       "      <td>440.000000</td>\n",
       "      <td>1.038980</td>\n",
       "      <td>3.810000</td>\n",
       "      <td>1.010000</td>\n",
       "      <td>14.200000</td>\n",
       "      <td>9.000000</td>\n",
       "    </tr>\n",
       "  </tbody>\n",
       "</table>\n",
       "</div>"
      ],
      "text/plain": [
       "       fixed.acidity  volatile.acidity  citric.acid  residual.sugar  \\\n",
       "count    3673.000000       3673.000000  3673.000000     3673.000000   \n",
       "mean        6.854724          0.277953     0.335108        6.413613   \n",
       "std         0.848973          0.099913     0.123156        5.054275   \n",
       "min         3.800000          0.080000     0.000000        0.600000   \n",
       "25%         6.300000          0.210000     0.270000        1.700000   \n",
       "50%         6.800000          0.260000     0.310000        5.250000   \n",
       "75%         7.300000          0.320000     0.390000        9.900000   \n",
       "max        14.200000          1.100000     1.660000       65.800000   \n",
       "\n",
       "         chlorides  free.sulfur.dioxide  total.sulfur.dioxide      density  \\\n",
       "count  3673.000000          3673.000000           3673.000000  3673.000000   \n",
       "mean      0.045710            35.368500            138.626736     0.994026   \n",
       "std       0.021747            16.974746             42.641142     0.003016   \n",
       "min       0.012000             3.000000              9.000000     0.987110   \n",
       "25%       0.036000            24.000000            108.000000     0.991700   \n",
       "50%       0.043000            34.000000            134.000000     0.993800   \n",
       "75%       0.050000            46.000000            167.000000     0.996100   \n",
       "max       0.346000           289.000000            440.000000     1.038980   \n",
       "\n",
       "                pH    sulphates      alcohol      quality  \n",
       "count  3673.000000  3673.000000  3673.000000  3673.000000  \n",
       "mean      3.189834     0.489115    10.525709     5.893820  \n",
       "std       0.152739     0.112433     1.243642     0.892749  \n",
       "min       2.720000     0.250000     8.000000     3.000000  \n",
       "25%       3.080000     0.410000     9.400000     5.000000  \n",
       "50%       3.180000     0.470000    10.400000     6.000000  \n",
       "75%       3.280000     0.550000    11.400000     6.000000  \n",
       "max       3.810000     1.010000    14.200000     9.000000  "
      ]
     },
     "execution_count": 47,
     "metadata": {},
     "output_type": "execute_result"
    }
   ],
   "source": [
    "# Describe train dataset with statistics\n",
    "\n",
    "train.describe()"
   ]
  },
  {
   "cell_type": "code",
   "execution_count": 48,
   "metadata": {},
   "outputs": [
    {
     "name": "stdout",
     "output_type": "stream",
     "text": [
      "Skewness of cc_cons is: 0.1633809787829889 \n",
      "Kurtosis of cc_cons is: 0.1919479861015363 \n"
     ]
    }
   ],
   "source": [
    "# Print skewness ans kurtosis for the target variable('quality')\n",
    "\n",
    "print('Skewness of cc_cons is: {} '.format(train['quality'].skew()))\n",
    "print('Kurtosis of cc_cons is: {} '.format(train['quality'].kurt()))"
   ]
  },
  {
   "cell_type": "code",
   "execution_count": 49,
   "metadata": {},
   "outputs": [
    {
     "data": {
      "text/plain": [
       "<matplotlib.axes._subplots.AxesSubplot at 0x16ebd3bd0f0>"
      ]
     },
     "execution_count": 49,
     "metadata": {},
     "output_type": "execute_result"
    },
    {
     "data": {
      "image/png": "[encoded data removed]",
      "text/plain": [
       "<Figure size 432x288 with 1 Axes>"
      ]
     },
     "metadata": {
      "needs_background": "light"
     },
     "output_type": "display_data"
    }
   ],
   "source": [
    "# Ploting distribution of target variable('quality')\n",
    "\n",
    "sns.distplot(train['quality'])"
   ]
  },
  {
   "cell_type": "code",
   "execution_count": 50,
   "metadata": {},
   "outputs": [
    {
     "data": {
      "text/plain": [
       "array([[<matplotlib.axes._subplots.AxesSubplot object at 0x0000016EBD417C18>,\n",
       "        <matplotlib.axes._subplots.AxesSubplot object at 0x0000016EBD48E390>,\n",
       "        <matplotlib.axes._subplots.AxesSubplot object at 0x0000016EBD6C89B0>],\n",
       "       [<matplotlib.axes._subplots.AxesSubplot object at 0x0000016EBD6F9080>,\n",
       "        <matplotlib.axes._subplots.AxesSubplot object at 0x0000016EBD721710>,\n",
       "        <matplotlib.axes._subplots.AxesSubplot object at 0x0000016EBD721748>],\n",
       "       [<matplotlib.axes._subplots.AxesSubplot object at 0x0000016EBD77C470>,\n",
       "        <matplotlib.axes._subplots.AxesSubplot object at 0x0000016EBD7A2B00>,\n",
       "        <matplotlib.axes._subplots.AxesSubplot object at 0x0000016EBD7D51D0>],\n",
       "       [<matplotlib.axes._subplots.AxesSubplot object at 0x0000016EBD7FC860>,\n",
       "        <matplotlib.axes._subplots.AxesSubplot object at 0x0000016EBF1F7EF0>,\n",
       "        <matplotlib.axes._subplots.AxesSubplot object at 0x0000016EBF227588>]],\n",
       "      dtype=object)"
      ]
     },
     "execution_count": 50,
     "metadata": {},
     "output_type": "execute_result"
    },
    {
     "data": {
      "image/png": "[encoded data removed]",
      "text/plain": [
       "<Figure size 1440x2160 with 12 Axes>"
      ]
     },
     "metadata": {
      "needs_background": "light"
     },
     "output_type": "display_data"
    }
   ],
   "source": [
    "train.hist(figsize = (20, 30))"
   ]
  },
  {
   "cell_type": "code",
   "execution_count": 57,
   "metadata": {},
   "outputs": [
    {
     "data": {
      "text/plain": [
       "<matplotlib.axes._subplots.AxesSubplot at 0x16ebf30bd68>"
      ]
     },
     "execution_count": 57,
     "metadata": {},
     "output_type": "execute_result"
    },
    {
     "data": {
      "image/png": "[encoded data removed]",
      "text/plain": [
       "<Figure size 1224x576 with 1 Axes>"
      ]
     },
     "metadata": {
      "needs_background": "light"
     },
     "output_type": "display_data"
    }
   ],
   "source": [
    "variable_boxplot = train[['fixed.acidity', 'volatile.acidity', 'citric.acid', 'residual.sugar', 'chlorides', 'free.sulfur.dioxide', 'total.sulfur.dioxide', 'density', 'pH', 'sulphates', 'alcohol', 'quality']]\n",
    "\n",
    "plt.figure(figsize = (17, 8))\n",
    "plt.xticks(rotation=45)\n",
    "sns.boxplot(data = variable_boxplot)"
   ]
  },
  {
   "cell_type": "code",
   "execution_count": 14,
   "metadata": {},
   "outputs": [
    {
     "name": "stdout",
     "output_type": "stream",
     "text": [
      "35.36849986387149\n",
      "34.0\n",
      "0    29.0\n",
      "dtype: float64\n"
     ]
    }
   ],
   "source": [
    "print(train['free.sulfur.dioxide'].mean())\n",
    "print(train['free.sulfur.dioxide'].median())\n",
    "print(train['free.sulfur.dioxide'].mode())"
   ]
  },
  {
   "cell_type": "code",
   "execution_count": 52,
   "metadata": {},
   "outputs": [],
   "source": [
    "train['total.sulfur.dioxide'] = train['total.sulfur.dioxide'].mask(train['total.sulfur.dioxide'] > 300, train['total.sulfur.dioxide'].mode())"
   ]
  },
  {
   "cell_type": "code",
   "execution_count": 53,
   "metadata": {},
   "outputs": [],
   "source": [
    "train['free.sulfur.dioxide'] = train['free.sulfur.dioxide'].mask(train['free.sulfur.dioxide'] > 250, train['free.sulfur.dioxide'].mode())"
   ]
  },
  {
   "cell_type": "code",
   "execution_count": 54,
   "metadata": {},
   "outputs": [],
   "source": [
    "train['residual.sugar'] = train['residual.sugar'].mask(train['residual.sugar'] > 50, train['residual.sugar'].mode())"
   ]
  },
  {
   "cell_type": "code",
   "execution_count": 65,
   "metadata": {},
   "outputs": [],
   "source": [
    "train.fillna(train.median(), inplace=True)"
   ]
  },
  {
   "cell_type": "code",
   "execution_count": 66,
   "metadata": {},
   "outputs": [],
   "source": [
    "X = train.drop(['quality'], 1)\n",
    "y = train['quality']"
   ]
  },
  {
   "cell_type": "code",
   "execution_count": 67,
   "metadata": {},
   "outputs": [],
   "source": [
    "X_train, X_test, y_train, y_test = train_test_split(X, y, test_size = 0.25, random_state = 0)"
   ]
  },
  {
   "cell_type": "code",
   "execution_count": 68,
   "metadata": {},
   "outputs": [
    {
     "data": {
      "text/plain": [
       "((2754, 11), (919, 11), (2754,), (919,))"
      ]
     },
     "execution_count": 68,
     "metadata": {},
     "output_type": "execute_result"
    }
   ],
   "source": [
    "X_train.shape, X_test.shape, y_train.shape, y_test.shape"
   ]
  },
  {
   "cell_type": "code",
   "execution_count": 69,
   "metadata": {},
   "outputs": [],
   "source": [
    "from sklearn.linear_model import LinearRegression"
   ]
  },
  {
   "cell_type": "code",
   "execution_count": 78,
   "metadata": {},
   "outputs": [
    {
     "data": {
      "text/plain": [
       "0.2366179207046275"
      ]
     },
     "execution_count": 78,
     "metadata": {},
     "output_type": "execute_result"
    }
   ],
   "source": [
    "liear_reg = LinearRegression()\n",
    "# score_liear_reg=cross_val_score(liear_reg, X, y, cv=10)\n",
    "# score_liear_reg.mean()"
   ]
  },
  {
   "cell_type": "code",
   "execution_count": 79,
   "metadata": {},
   "outputs": [
    {
     "data": {
      "text/plain": [
       "LinearRegression(copy_X=True, fit_intercept=True, n_jobs=None, normalize=False)"
      ]
     },
     "execution_count": 79,
     "metadata": {},
     "output_type": "execute_result"
    }
   ],
   "source": [
    "liear_reg.fit(X_train, y_train)"
   ]
  },
  {
   "cell_type": "code",
   "execution_count": 77,
   "metadata": {},
   "outputs": [
    {
     "data": {
      "text/plain": [
       "0.28534686955897726"
      ]
     },
     "execution_count": 77,
     "metadata": {},
     "output_type": "execute_result"
    }
   ],
   "source": [
    "liear_reg.score(X_test, y_test)"
   ]
  },
  {
   "cell_type": "code",
   "execution_count": null,
   "metadata": {},
   "outputs": [],
   "source": []
  },
  {
   "cell_type": "code",
   "execution_count": null,
   "metadata": {},
   "outputs": [],
   "source": []
  },
  {
   "cell_type": "code",
   "execution_count": 80,
   "metadata": {},
   "outputs": [],
   "source": [
    "knn_reg = KNeighborsRegressor(n_neighbors = 2)"
   ]
  },
  {
   "cell_type": "code",
   "execution_count": 81,
   "metadata": {},
   "outputs": [
    {
     "data": {
      "text/plain": [
       "KNeighborsRegressor(algorithm='auto', leaf_size=30, metric='minkowski',\n",
       "                    metric_params=None, n_jobs=None, n_neighbors=2, p=2,\n",
       "                    weights='uniform')"
      ]
     },
     "execution_count": 81,
     "metadata": {},
     "output_type": "execute_result"
    }
   ],
   "source": [
    "knn_reg.fit(X_train, y_train)"
   ]
  },
  {
   "cell_type": "code",
   "execution_count": 82,
   "metadata": {},
   "outputs": [
    {
     "data": {
      "text/plain": [
       "0.03084171420758186"
      ]
     },
     "execution_count": 82,
     "metadata": {},
     "output_type": "execute_result"
    }
   ],
   "source": [
    "knn_reg.score(X_test, y_test)"
   ]
  },
  {
   "cell_type": "code",
   "execution_count": null,
   "metadata": {},
   "outputs": [],
   "source": []
  },
  {
   "cell_type": "code",
   "execution_count": 84,
   "metadata": {},
   "outputs": [],
   "source": [
    "from xgboost import XGBRegressor\n",
    "parameters={'learning_rate':[0.1,0.15,0.2,0.25,0.3],\n",
    "            'max_depth':range(1,3)}"
   ]
  },
  {
   "cell_type": "code",
   "execution_count": 103,
   "metadata": {},
   "outputs": [],
   "source": [
    "xgb_reg = XGBRegressor()"
   ]
  },
  {
   "cell_type": "code",
   "execution_count": 104,
   "metadata": {},
   "outputs": [
    {
     "name": "stdout",
     "output_type": "stream",
     "text": [
      "[14:30:27] WARNING: C:/Jenkins/workspace/xgboost-win64_release_0.90/src/objective/regression_obj.cu:152: reg:linear is now deprecated in favor of reg:squarederror.\n"
     ]
    },
    {
     "data": {
      "text/plain": [
       "XGBRegressor(base_score=0.5, booster='gbtree', colsample_bylevel=1,\n",
       "             colsample_bynode=1, colsample_bytree=1, gamma=0,\n",
       "             importance_type='gain', learning_rate=0.1, max_delta_step=0,\n",
       "             max_depth=3, min_child_weight=1, missing=None, n_estimators=100,\n",
       "             n_jobs=1, nthread=None, objective='reg:linear', random_state=0,\n",
       "             reg_alpha=0, reg_lambda=1, scale_pos_weight=1, seed=None,\n",
       "             silent=None, subsample=1, verbosity=1)"
      ]
     },
     "execution_count": 104,
     "metadata": {},
     "output_type": "execute_result"
    }
   ],
   "source": [
    "xgb_reg.fit(X_train, y_train)"
   ]
  },
  {
   "cell_type": "code",
   "execution_count": 105,
   "metadata": {},
   "outputs": [
    {
     "data": {
      "text/plain": [
       "0.4022817647133371"
      ]
     },
     "execution_count": 105,
     "metadata": {},
     "output_type": "execute_result"
    }
   ],
   "source": [
    "xgb_reg.score(X_test, y_test)"
   ]
  },
  {
   "cell_type": "code",
   "execution_count": null,
   "metadata": {},
   "outputs": [],
   "source": []
  },
  {
   "cell_type": "code",
   "execution_count": null,
   "metadata": {},
   "outputs": [],
   "source": [
    "train['quality'] = train['total.sulfur.dioxide'].mask(train['total.sulfur.dioxide'] > 300, train['total.sulfur.dioxide'].mode())"
   ]
  },
  {
   "cell_type": "code",
   "execution_count": null,
   "metadata": {},
   "outputs": [],
   "source": []
  },
  {
   "cell_type": "code",
   "execution_count": 106,
   "metadata": {},
   "outputs": [],
   "source": [
    "predictions = xgb_reg.predict(X_test)"
   ]
  },
  {
   "cell_type": "code",
   "execution_count": 107,
   "metadata": {},
   "outputs": [
    {
     "name": "stdout",
     "output_type": "stream",
     "text": [
      "[5.680246  6.333412  6.515732  6.657857  5.327379  6.613876  5.6246305\n",
      " 4.6628237 5.4918    5.359108  5.6011467 5.6476316 6.394889  5.476285\n",
      " 5.1478257 5.66059   6.227092  5.3895183 5.836599  5.546042  6.2035494\n",
      " 6.066574  5.9905963 4.4666157 6.8951535 5.423056  5.4185996 5.3545938\n",
      " 6.7920337 6.1561294 5.4190526 6.3240123 5.3536553 5.8509064 5.905494\n",
      " 6.1503983 6.0165606 7.1340246 6.0173893 5.5484343 5.775063  6.47798\n",
      " 6.6205735 6.7168317 6.1223636 6.0125065 6.6911616 6.575893  6.1433597\n",
      " 4.988041  5.3237257 6.906572  6.2035494 5.9429717 5.355784  5.3406954\n",
      " 4.790374  5.642029  5.171479  5.749941  6.1504784 6.373167  6.8731933\n",
      " 6.402311  5.3317776 6.3340898 4.590547  6.256807  6.585807  5.6088147\n",
      " 5.703995  5.262223  5.7950253 6.000389  6.5701995 6.4542465 6.168424\n",
      " 6.2103486 6.551528  6.141812  5.67327   5.411716  6.6236787 5.527415\n",
      " 6.568684  6.3876595 6.42211   6.923253  6.561092  5.528885  6.210901\n",
      " 5.2992263 5.2992263 5.575583  5.8391685 5.2939014 5.8883367 6.685255\n",
      " 5.8743877 5.8445406 6.0225973 5.4282084 5.1828885 5.601697  5.340332\n",
      " 5.7724566 6.3622217 5.2134995 6.0181375 5.707457  6.5977263 6.1437306\n",
      " 5.5451365 6.155176  5.339277  5.280828  6.68446   6.384522  6.530649\n",
      " 6.383356  5.463584  5.6895547 5.8181744 5.4283223 6.321414  5.2310143\n",
      " 5.9406905 7.031918  5.608982  5.158144  6.0935388 6.2399044 5.2701464\n",
      " 6.4430113 5.751467  5.899612  6.2618356 5.501512  5.3654547 5.4968696\n",
      " 6.8615966 5.8667183 6.131213  6.270647  5.8412023 5.974905  5.624848\n",
      " 5.354262  5.340134  5.1756263 6.6958513 6.3344626 5.8699718 5.8257446\n",
      " 7.0789986 5.862571  5.4581137 5.753102  6.776348  5.53893   5.6246305\n",
      " 5.343262  5.7569795 6.1918483 5.9906282 6.491887  5.40324   5.5505395\n",
      " 6.257355  6.506407  5.8792562 5.9110847 5.1863394 5.360255  5.9012213\n",
      " 5.2143407 6.0750465 5.978424  6.2577653 5.081443  5.3265114 4.8884\n",
      " 6.5383296 5.812714  4.963272  6.546773  5.5592756 5.8682947 5.2203937\n",
      " 6.5889335 5.453546  6.0420203 5.453349  6.141989  5.2863503 5.7854013\n",
      " 6.3579445 5.819882  5.7699814 5.340406  5.1795526 5.217104  5.779397\n",
      " 7.026573  5.74959   5.157478  5.2986693 5.2996716 5.102157  6.171596\n",
      " 5.561927  5.9124446 5.71521   5.8213415 6.1905007 5.932182  7.048496\n",
      " 5.516613  6.0491834 5.265686  5.2702737 6.1400924 6.3301125 5.507259\n",
      " 5.4085884 5.649145  6.2740636 6.232035  6.3609095 5.5916944 5.437134\n",
      " 6.6510935 4.5167184 5.2937717 6.527867  5.081443  4.839425  5.322004\n",
      " 5.7683644 6.383356  5.811996  6.1864114 5.5163574 5.8402357 5.297016\n",
      " 4.776849  5.995808  5.4816685 6.105638  5.4898477 6.3227673 5.6494875\n",
      " 5.7690725 6.402311  5.5935097 6.059349  5.653059  5.4968696 6.1993437\n",
      " 5.2207503 6.3411055 5.4065976 6.133606  6.668364  5.8513546 5.389286\n",
      " 6.3645797 4.9154406 5.78851   5.1542487 5.8503723 6.3556647 5.926144\n",
      " 6.37585   5.943522  5.57974   5.9116464 5.896356  6.082538  6.6068745\n",
      " 4.99024   5.620078  5.340406  5.43286   6.837979  6.2636814 4.8629417\n",
      " 5.610966  6.8551965 6.0690565 5.4844003 5.796563  5.404241  6.2040424\n",
      " 5.6537566 6.4353275 4.9836645 6.2196712 7.0471044 5.7616253 5.5038285\n",
      " 6.1998625 6.5873075 6.051283  5.414525  6.7641616 4.1698904 6.614036\n",
      " 5.861172  5.51996   6.301462  6.4077187 5.494725  6.064689  5.480933\n",
      " 6.6972075 5.801814  5.7381644 4.912433  7.00891   6.132932  6.0237465\n",
      " 5.837139  5.369616  6.2869763 4.629715  6.5578895 5.7716346 5.826837\n",
      " 6.5298295 6.5248466 5.8779707 5.497305  5.2908583 6.8048024 5.9043927\n",
      " 6.3234434 5.87597   5.5266147 6.243277  5.407833  6.8359857 6.634623\n",
      " 5.41933   5.887326  5.8563633 6.855667  6.0461774 6.096099  5.6064725\n",
      " 5.9846253 5.480933  5.9837127 5.648186  5.89771   6.447555  4.8859396\n",
      " 5.5549564 6.8273473 6.548497  5.6318045 5.9846187 5.8094745 6.4722238\n",
      " 5.3197412 6.8736806 5.158802  5.360813  5.292321  5.5398374 6.838749\n",
      " 5.3894224 5.909931  5.500622  6.178075  6.15875   5.53692   5.302915\n",
      " 6.4789305 6.7094636 5.99487   5.5868416 6.3678994 5.476789  5.2702913\n",
      " 5.4269977 6.412002  6.3995786 5.784338  6.082528  5.5731807 6.556188\n",
      " 5.9488993 6.572638  6.591385  5.5962496 5.1503463 4.9911876 5.707494\n",
      " 6.6911616 6.1298785 5.493123  6.3134165 6.314619  6.1935115 6.56653\n",
      " 5.651804  6.331537  5.353839  5.943914  6.482155  6.588911  5.5908513\n",
      " 5.8516    5.7709575 6.399442  5.727644  5.1807313 5.2723823 5.308637\n",
      " 6.3712463 5.442647  6.2429996 6.2263913 5.7209387 5.294857  6.1124396\n",
      " 5.739273  5.416619  5.700635  5.273368  6.5456605 6.7701855 6.8592734\n",
      " 5.0677547 6.320783  6.71315   6.5090837 5.408792  6.50143   6.055778\n",
      " 4.9253945 6.126958  6.257076  6.383276  5.1178746 6.743259  5.8193116\n",
      " 5.1325593 6.3328924 6.6152463 5.346004  5.305114  6.6415296 5.2612863\n",
      " 5.6649456 5.8140354 6.1608276 6.439823  6.1048756 6.235145  4.5766015\n",
      " 4.9836645 6.0379157 6.504654  6.622235  7.0070176 6.7122912 5.650358\n",
      " 6.468069  5.868716  6.06771   5.7874794 6.3611774 5.3198915 5.342636\n",
      " 5.5159297 5.7811127 5.016255  6.216102  5.1921024 5.9932127 6.2849617\n",
      " 5.423056  5.550168  6.383276  5.9753404 6.6904273 5.569     5.1383643\n",
      " 5.84632   6.082132  5.888677  6.089933  5.804062  6.151396  5.877179\n",
      " 5.717086  5.529557  6.424457  5.524378  5.5340643 5.2237897 5.842573\n",
      " 5.2389297 5.818858  5.384105  5.6824822 5.3151946 6.8948746 5.2322235\n",
      " 5.2264824 6.25781   5.2756133 5.269938  6.028964  4.9996314 4.880118\n",
      " 5.0547266 5.455165  6.114245  5.8037653 6.0529466 6.262677  6.3609447\n",
      " 6.03368   6.348505  5.287229  5.902261  6.324663  5.6710014 6.5286517\n",
      " 5.7311573 5.2945166 5.4614544 5.968761  6.1026096 5.6887393 5.969543\n",
      " 5.490387  5.375136  5.9667993 5.6207733 6.7034235 6.2844005 6.7034025\n",
      " 5.5493526 5.0671244 6.175455  6.8592734 5.632387  5.7409062 6.6530733\n",
      " 6.3813076 5.813494  5.1367073 5.4938855 5.13011   6.5878267 5.9025\n",
      " 5.398438  5.6218796 5.2471666 6.597715  5.580958  6.547965  5.28133\n",
      " 5.7593756 5.4540153 5.91926   5.582985  5.6989846 5.6380124 5.3856344\n",
      " 6.099913  6.591385  5.4716177 5.606232  6.235761  6.0398064 4.8983946\n",
      " 6.138401  5.7311573 6.082538  6.3297396 5.6865034 6.158345  6.239856\n",
      " 5.9265027 5.402146  5.926706  4.3405733 7.1070046 5.1414423 5.458394\n",
      " 5.7061353 6.309472  5.9887605 6.29413   6.2684984 5.7499957 5.489297\n",
      " 6.2850804 5.9202795 6.4228997 7.0821614 6.084727  5.9309983 7.008283\n",
      " 6.3500133 6.1780405 5.3296456 5.358131  4.8645163 5.3052764 5.4839015\n",
      " 6.316302  5.8067093 6.5988374 6.7778144 5.2343855 5.7332945 6.2844005\n",
      " 6.2666826 5.196418  5.3711467 6.9111834 5.959782  5.7215877 6.46031\n",
      " 5.7550707 4.328431  6.7288866 5.163424  6.2775135 5.654542  5.629471\n",
      " 6.3313847 6.1753993 6.1237135 6.0967436 5.880154  5.926706  5.961486\n",
      " 5.9932127 5.2141485 5.5925727 5.504951  5.50375   5.6046047 5.9607153\n",
      " 6.141989  6.5546017 5.238924  5.285805  6.8574815 5.0907307 5.4490294\n",
      " 6.5238357 5.9238296 5.6447787 6.066584  7.2290235 5.864207  5.460144\n",
      " 5.3962607 6.1437535 5.590616  6.1703143 5.6110883 5.182893  5.960059\n",
      " 5.7271037 6.0977864 5.3244205 5.7384114 5.8260536 6.328422  6.0146084\n",
      " 6.141812  6.001935  5.826937  5.256168  5.829145  5.6936502 6.855667\n",
      " 6.542013  5.4153905 5.217104  5.274185  6.624743  5.497305  5.4138794\n",
      " 5.7784605 6.296864  5.7054405 5.662423  4.917986  5.3050127 5.3544645\n",
      " 6.6254997 5.2320213 5.455984  5.4067907 6.778709  5.915589  6.524838\n",
      " 5.757333  6.788973  5.889186  5.0786    5.5432878 6.3985896 5.5961556\n",
      " 5.274185  5.41387   6.3411055 5.2924805 5.528885  5.3490834 5.32231\n",
      " 5.5961556 5.8836136 6.639048  5.3099184 5.2689986 5.3148103 6.314941\n",
      " 6.3046756 6.0945077 5.5818763 6.254308  5.7499113 5.3927903 6.6375785\n",
      " 5.7793226 6.354655  7.0576963 6.2800684 5.664194  5.459714  6.495137\n",
      " 5.4236093 6.810146  6.9612303 5.1355286 6.230361  5.936517  6.659629\n",
      " 6.114482  5.651209  6.6718125 5.430751  5.170712  5.882776  5.0455694\n",
      " 6.3577228 5.592046  6.257076  5.185776  6.2588067 5.1420064 5.345764\n",
      " 6.5735564 5.9040613 5.5841665 6.506936  6.1727667 5.3039036 5.590616\n",
      " 5.490387  6.531323  6.1235795 5.4185996 6.7975063 5.0867434 5.36834\n",
      " 6.614611  5.117982  6.170163  6.85227   5.9933004 6.0378804 5.6552935\n",
      " 7.031918  5.736049  5.5576854 5.2535596 6.272676  5.6372213 6.3796597\n",
      " 5.9575844 5.383475  5.6068945 6.3629546 5.4487004 6.9170065 6.6374335\n",
      " 6.1136546 5.2735243 5.5783834 5.3983717 5.429691  6.646812  5.286859\n",
      " 6.112675  6.705613  5.4784718 5.8190956 6.575893  5.807232  4.753452\n",
      " 5.5002384 6.222694  5.3265114 5.5177217 7.3344584 5.245146  5.667332\n",
      " 5.9450707 6.3579445 6.4981213 6.306673  5.2723417 5.353443  5.408792\n",
      " 5.7784605 6.0892644 5.610104  5.8233657 5.504963  5.125381  5.7047157\n",
      " 5.43932   5.447357  5.3182907 6.3224564 5.7573977 5.182987  6.3624587\n",
      " 7.2162514 7.050449  6.3576436 4.857099  5.9836717 6.345112  5.2988596\n",
      " 5.5186996 5.9830995 6.4642315 5.2946057 6.4549646 6.0559454 5.764401\n",
      " 5.7064633 6.31687   5.902632  5.784822  5.4819007 6.2168403 6.7094636\n",
      " 5.297349  6.448977  5.9640636 6.3600626 6.260606  6.4789305 6.068912\n",
      " 5.714497  5.297184  6.157239  6.7798004 6.0474076 5.9320364 6.0124493\n",
      " 5.940741  6.5190916 6.3230853 6.298833  6.0408154 6.1136546 5.5919704\n",
      " 6.2188373 6.041336  5.405418  6.085662  6.3281713 6.126857  6.0386105\n",
      " 6.452479  5.4387307 5.2863503 5.948518  5.5467014 6.048737  5.917047\n",
      " 5.7573977 5.0380173 6.251124  7.031918  5.852488  5.496418  6.67706\n",
      " 6.5723214 5.476789  5.298836  5.388224  5.9630494 5.9067216 4.7289467\n",
      " 6.6926928 4.7720704 5.950856  5.7102222 6.100114  5.578721  5.5524025\n",
      " 5.820341  6.139439 ]\n"
     ]
    }
   ],
   "source": [
    "# displaying predicted values\n",
    "\n",
    "print(predictions)"
   ]
  },
  {
   "cell_type": "code",
   "execution_count": 108,
   "metadata": {},
   "outputs": [],
   "source": [
    "# making dataframe of the predicted values\n",
    "\n",
    "df = pd.DataFrame({'wine_prediction': predictions})"
   ]
  },
  {
   "cell_type": "code",
   "execution_count": 109,
   "metadata": {},
   "outputs": [
    {
     "data": {
      "text/html": [
       "<div>\n",
       "<style scoped>\n",
       "    .dataframe tbody tr th:only-of-type {\n",
       "        vertical-align: middle;\n",
       "    }\n",
       "\n",
       "    .dataframe tbody tr th {\n",
       "        vertical-align: top;\n",
       "    }\n",
       "\n",
       "    .dataframe thead th {\n",
       "        text-align: right;\n",
       "    }\n",
       "</style>\n",
       "<table border=\"1\" class=\"dataframe\">\n",
       "  <thead>\n",
       "    <tr style=\"text-align: right;\">\n",
       "      <th></th>\n",
       "      <th>wine_prediction</th>\n",
       "    </tr>\n",
       "  </thead>\n",
       "  <tbody>\n",
       "    <tr>\n",
       "      <th>0</th>\n",
       "      <td>5.680246</td>\n",
       "    </tr>\n",
       "    <tr>\n",
       "      <th>1</th>\n",
       "      <td>6.333412</td>\n",
       "    </tr>\n",
       "    <tr>\n",
       "      <th>2</th>\n",
       "      <td>6.515732</td>\n",
       "    </tr>\n",
       "    <tr>\n",
       "      <th>3</th>\n",
       "      <td>6.657857</td>\n",
       "    </tr>\n",
       "    <tr>\n",
       "      <th>4</th>\n",
       "      <td>5.327379</td>\n",
       "    </tr>\n",
       "  </tbody>\n",
       "</table>\n",
       "</div>"
      ],
      "text/plain": [
       "   wine_prediction\n",
       "0         5.680246\n",
       "1         6.333412\n",
       "2         6.515732\n",
       "3         6.657857\n",
       "4         5.327379"
      ]
     },
     "execution_count": 109,
     "metadata": {},
     "output_type": "execute_result"
    }
   ],
   "source": [
    "# Print first five rows of our predicted data values\n",
    "\n",
    "df.head()"
   ]
  },
  {
   "cell_type": "code",
   "execution_count": 117,
   "metadata": {},
   "outputs": [],
   "source": [
    "# Save the prediction data in a file at the desire location\n",
    "\n",
    "df.to_csv('C:/Users/admin/Desktop/data/wine_prediction.csv', index = False)"
   ]
  },
  {
   "cell_type": "code",
   "execution_count": 118,
   "metadata": {},
   "outputs": [],
   "source": [
    "# Read the saved precticted file at the location 'C:/Users/admin/Desktop/data/Data Sets/Credit card cunsumption/pred_data.csv'\n",
    "\n",
    "data = pd.read_csv('C:/Users/admin/Desktop/data/Data Sets/Credit card cunsumption/pred_data.csv')"
   ]
  },
  {
   "cell_type": "code",
   "execution_count": 119,
   "metadata": {},
   "outputs": [
    {
     "data": {
      "text/html": [
       "<div>\n",
       "<style scoped>\n",
       "    .dataframe tbody tr th:only-of-type {\n",
       "        vertical-align: middle;\n",
       "    }\n",
       "\n",
       "    .dataframe tbody tr th {\n",
       "        vertical-align: top;\n",
       "    }\n",
       "\n",
       "    .dataframe thead th {\n",
       "        text-align: right;\n",
       "    }\n",
       "</style>\n",
       "<table border=\"1\" class=\"dataframe\">\n",
       "  <thead>\n",
       "    <tr style=\"text-align: right;\">\n",
       "      <th></th>\n",
       "      <th>Unnamed: 0</th>\n",
       "      <th>wine_prediction</th>\n",
       "    </tr>\n",
       "  </thead>\n",
       "  <tbody>\n",
       "    <tr>\n",
       "      <th>0</th>\n",
       "      <td>0</td>\n",
       "      <td>5.680246</td>\n",
       "    </tr>\n",
       "    <tr>\n",
       "      <th>1</th>\n",
       "      <td>1</td>\n",
       "      <td>6.333412</td>\n",
       "    </tr>\n",
       "    <tr>\n",
       "      <th>2</th>\n",
       "      <td>2</td>\n",
       "      <td>6.515732</td>\n",
       "    </tr>\n",
       "    <tr>\n",
       "      <th>3</th>\n",
       "      <td>3</td>\n",
       "      <td>6.657857</td>\n",
       "    </tr>\n",
       "    <tr>\n",
       "      <th>4</th>\n",
       "      <td>4</td>\n",
       "      <td>5.327379</td>\n",
       "    </tr>\n",
       "  </tbody>\n",
       "</table>\n",
       "</div>"
      ],
      "text/plain": [
       "   Unnamed: 0  wine_prediction\n",
       "0           0         5.680246\n",
       "1           1         6.333412\n",
       "2           2         6.515732\n",
       "3           3         6.657857\n",
       "4           4         5.327379"
      ]
     },
     "execution_count": 119,
     "metadata": {},
     "output_type": "execute_result"
    }
   ],
   "source": [
    "# Print first five rows of our saved predicted file \n",
    "\n",
    "data.head()"
   ]
  },
  {
   "cell_type": "code",
   "execution_count": null,
   "metadata": {},
   "outputs": [],
   "source": []
  },
  {
   "cell_type": "code",
   "execution_count": null,
   "metadata": {},
   "outputs": [],
   "source": []
  }
 ],
 "metadata": {
  "kernelspec": {
   "display_name": "Python 3",
   "language": "python",
   "name": "python3"
  },
  "language_info": {
   "codemirror_mode": {
    "name": "ipython",
    "version": 3
   },
   "file_extension": ".py",
   "mimetype": "text/x-python",
   "name": "python",
   "nbconvert_exporter": "python",
   "pygments_lexer": "ipython3",
   "version": "3.7.1"
  }
 },
 "nbformat": 4,
 "nbformat_minor": 2
}
